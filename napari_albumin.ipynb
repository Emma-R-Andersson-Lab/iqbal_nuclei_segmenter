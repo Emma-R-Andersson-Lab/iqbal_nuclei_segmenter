{
 "cells": [
  {
   "cell_type": "code",
   "execution_count": 1,
   "id": "ef6abe4b-3222-444b-b070-0d7577aae17e",
   "metadata": {},
   "outputs": [],
   "source": [
    "import pathlib\n",
    "import nd2\n",
    "import numpy as np\n",
    "from ipywidgets import interact, interactive\n",
    "from IPython.display import display\n",
    "from tifffile import TiffFile\n",
    "from nuclei_segmenter import vis"
   ]
  },
  {
   "cell_type": "code",
   "execution_count": 6,
   "id": "3f01bcd2-85fe-4edd-80cf-c6c4efc286a3",
   "metadata": {},
   "outputs": [],
   "source": [
    "DATA_DIR = pathlib.Path(r'C:\\Users\\afsiqb\\OneDrive - Karolinska Institutet\\Microwell plate experiments\\EdU staining Non-IGF1 exp\\Reference images for Alb+ve nuclei in ICOs')\n",
    "SEGM_DIR = pathlib.Path(r'C:\\Users\\afsiqb\\OneDrive - Karolinska Institutet\\Microwell plate experiments\\EdU staining Non-IGF1 exp\\Reference images for Alb+ve nuclei in ICOs\\segmented')\n",
    "\n",
    "\n",
    "file_list = [file for file in DATA_DIR.iterdir() if file.suffix == '.nd2' and 'Denoised' not in file.stem]"
   ]
  },
  {
   "cell_type": "code",
   "execution_count": 7,
   "id": "7b231d7e-a4b8-46a6-ac48-718a36d7bea0",
   "metadata": {},
   "outputs": [],
   "source": [
    "def get_file(filepath):\n",
    "    return nd2.ND2File(filepath)\n",
    "\n",
    "\n",
    "def get_image(file):\n",
    "    img = np.squeeze(file.asarray()).swapaxes(0, 1)\n",
    "    # if img.ndim > 3:\n",
    "    #     img = img[2]\n",
    "    return img\n",
    "\n",
    "\n",
    "def  get_pixel_size(file):\n",
    "    return {dim: val for dim, val in zip(['X', 'Y', 'Z'], file.metadata.channels[0].volume.axesCalibration)}"
   ]
  },
  {
   "cell_type": "code",
   "execution_count": 42,
   "id": "6af9a30d-cfed-4475-9d93-b60550dad3d9",
   "metadata": {},
   "outputs": [
    {
     "data": {
      "application/vnd.jupyter.widget-view+json": {
       "model_id": "61fcac92d8684aeda74933f983e53893",
       "version_major": 2,
       "version_minor": 0
      },
      "text/plain": [
       "interactive(children=(Dropdown(description='file', options=(WindowsPath('C:/Users/afsiqb/OneDrive - Karolinska…"
      ]
     },
     "metadata": {},
     "output_type": "display_data"
    }
   ],
   "source": [
    "def get_labeled(filepath):\n",
    "    label_filepath = filepath.parent / 'segmented' / (filepath.stem + '.tiff')\n",
    "    return TiffFile(label_filepath).asarray()\n",
    "\n",
    "\n",
    "def choose_file(file):\n",
    "    return file\n",
    "\n",
    "def load_imgs(filepath):\n",
    "    file = get_file(filepath)\n",
    "    img = get_image(file)\n",
    "    labeled = get_labeled(filepath)\n",
    "    scale = get_pixel_size(file)\n",
    "    return img, labeled, scale\n",
    "\n",
    "w = interactive(choose_file, file=file_list)\n",
    "display(w)"
   ]
  },
  {
   "cell_type": "markdown",
   "id": "310678dc-08b8-45c8-bdc9-03e0255f3268",
   "metadata": {},
   "source": [
    "Once you selected the file, run the following cell to see the images."
   ]
  },
  {
   "cell_type": "code",
   "execution_count": 43,
   "id": "4db255ee-5f1b-46f5-9e71-04e793a349b8",
   "metadata": {},
   "outputs": [
    {
     "name": "stderr",
     "output_type": "stream",
     "text": [
      "C:\\Users\\afsiqb\\AppData\\Local\\Temp\\ipykernel_33100\\3534152600.py:3: UserWarning: ND2File file not closed before garbage collection. Please use `with ND2File(...):` context or call `.close()`.\n",
      "  img, labels, scale = load_imgs(file)\n"
     ]
    }
   ],
   "source": [
    "file = w.result\n",
    "\n",
    "img, labels, scale = load_imgs(file)"
   ]
  },
  {
   "cell_type": "markdown",
   "id": "996be3e7-e0f6-4218-9b20-55595f65c674",
   "metadata": {},
   "source": [
    "### 2D viewer"
   ]
  },
  {
   "cell_type": "code",
   "execution_count": 44,
   "id": "59935a76-3af6-42b1-9916-94630a6cbbd8",
   "metadata": {},
   "outputs": [],
   "source": [
    "import napari\n",
    "viewer = napari.view_image(img[0])\n",
    "viewer.add_image(img[2])\n",
    "viewer.add_labels(labels)\n",
    "\n",
    "napari.run()"
   ]
  }
 ],
 "metadata": {
  "kernelspec": {
   "display_name": "Python 3 (ipykernel)",
   "language": "python",
   "name": "python3"
  },
  "language_info": {
   "codemirror_mode": {
    "name": "ipython",
    "version": 3
   },
   "file_extension": ".py",
   "mimetype": "text/x-python",
   "name": "python",
   "nbconvert_exporter": "python",
   "pygments_lexer": "ipython3",
   "version": "3.9.15"
  }
 },
 "nbformat": 4,
 "nbformat_minor": 5
}
