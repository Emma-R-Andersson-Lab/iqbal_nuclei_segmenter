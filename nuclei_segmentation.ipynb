{
 "cells": [
  {
   "cell_type": "markdown",
   "id": "2fdb4a69-3a64-47cf-8926-1ea53e930e4a",
   "metadata": {},
   "source": [
    "# Nuclei segmentation\n",
    "\n",
    "This notebook is done as an approachable wy of assessing the nuclei segmentation with napari and rerun the calculations."
   ]
  },
  {
   "cell_type": "code",
   "execution_count": 1,
   "id": "6b8f0be6-0144-4a3f-806e-985ad324e450",
   "metadata": {},
   "outputs": [],
   "source": [
    "from ipywidgets import interact, interactive\n",
    "from IPython.display import display\n",
    "import pandas as pd\n",
    "import pathlib\n",
    "\n",
    "from nuclei_segmenter import loader as io, vis, quantify as quant"
   ]
  },
  {
   "cell_type": "code",
   "execution_count": 2,
   "id": "e69bae57-d333-468d-9608-36c7f66d2183",
   "metadata": {},
   "outputs": [],
   "source": [
    "DATA_DIR = pathlib.Path(r'P:\\c5_Andersson_Emma\\Afshan\\Nuclei Area quantication')\n",
    "IMPR_DIR = pathlib.Path(r'P:\\c5_Andersson_Emma\\Afshan\\Nuclei Area quantication\\segmented_nuclei\\segmented')\n",
    "file_list = [filepath for filepath in DATA_DIR.iterdir() if filepath.is_file()\n",
    "             and filepath.suffix == '.czi'\n",
    "             and 'Orthogonal' not in filepath.name\n",
    "             and 'Subset' not in filepath.name]\n",
    "\n",
    "file_dict = {this_file.stem: {'img_path': this_file, 'labeled_path': IMPR_DIR / (this_file.stem + '.tiff')} for this_file in file_list}"
   ]
  },
  {
   "cell_type": "markdown",
   "id": "d5e6e61c-ea2e-48b5-9be3-c108b48a0b34",
   "metadata": {},
   "source": [
    "First you have to choose the file to open."
   ]
  },
  {
   "cell_type": "code",
   "execution_count": 3,
   "id": "95081680-f85b-4e3a-8370-0462d74c9239",
   "metadata": {},
   "outputs": [
    {
     "data": {
      "application/vnd.jupyter.widget-view+json": {
       "model_id": "105b1ca6e2ef49fa8847b035f17ebd98",
       "version_major": 2,
       "version_minor": 0
      },
      "text/plain": [
       "interactive(children=(Dropdown(description='file', options=('Ndr1219 p8 Hilar-3', 'Ndr1219 p8 Hilar-4', 'Ndr12…"
      ]
     },
     "metadata": {},
     "output_type": "display_data"
    }
   ],
   "source": [
    "def choose_file(file):\n",
    "    return file\n",
    "\n",
    "def load_imgs(file):\n",
    "    img = io.get_image(io.get_file(file_dict[file]['img_path']))\n",
    "    labeled = io.get_labeled(file_dict[file]['labeled_path'])\n",
    "    scale = io.get_pixel_size(io.get_file(file_dict[file]['img_path']))\n",
    "    return img, labeled, scale\n",
    "\n",
    "w = interactive(choose_file, file=list(file_dict.keys()))\n",
    "display(w)"
   ]
  },
  {
   "cell_type": "markdown",
   "id": "1cd9fb65-0e6d-4f7d-baf3-6501311da09d",
   "metadata": {},
   "source": [
    "Once you selected the file, run the following cell to see the images."
   ]
  },
  {
   "cell_type": "code",
   "execution_count": 4,
   "id": "def404de-4731-4d8b-88a1-8e3b6f36cdc1",
   "metadata": {},
   "outputs": [],
   "source": [
    "file = w.result\n",
    "img, labels, scale = load_imgs(file)"
   ]
  },
  {
   "cell_type": "markdown",
   "id": "45bfeecf-42b5-4ff8-8758-a2c2b56b4514",
   "metadata": {},
   "source": [
    "### 2D viewer"
   ]
  },
  {
   "cell_type": "code",
   "execution_count": 5,
   "id": "a0e2fbae-1646-4702-b2aa-a7ee16637ecf",
   "metadata": {},
   "outputs": [
    {
     "name": "stderr",
     "output_type": "stream",
     "text": [
      "WARNING: DirectWrite: CreateFontFaceFromHDC() failed (Indicates an error in an input file such as a font file.) for QFontDef(Family=\"\", pointsize=12, pixelsize=16, styleHint=5, weight=50, stretch=100, hintingPreference=0) LOGFONT(\"MS Sans Serif\", lfWidth=0, lfHeight=-16) dpi=240\n"
     ]
    }
   ],
   "source": [
    "vis.view_2d(img, labels)"
   ]
  },
  {
   "cell_type": "markdown",
   "id": "1bd976f5-09bb-4f3a-96ba-13001f451cfa",
   "metadata": {},
   "source": [
    "### 3D Viewer"
   ]
  },
  {
   "cell_type": "code",
   "execution_count": 6,
   "id": "f7ef2b7b-d38a-4602-ad56-c6be12958db0",
   "metadata": {},
   "outputs": [
    {
     "name": "stderr",
     "output_type": "stream",
     "text": [
      "WARNING: DirectWrite: CreateFontFaceFromHDC() failed (Indicates an error in an input file such as a font file.) for QFontDef(Family=\"\", pointsize=12, pixelsize=16, styleHint=5, weight=50, stretch=100, hintingPreference=0) LOGFONT(\"MS Sans Serif\", lfWidth=0, lfHeight=-16) dpi=240\n"
     ]
    }
   ],
   "source": [
    "vis.view_3d(img, labels)"
   ]
  },
  {
   "cell_type": "markdown",
   "id": "c2cfb3ff-5539-4101-ad00-cd74b6b887ef",
   "metadata": {},
   "source": [
    "### Area colored"
   ]
  },
  {
   "cell_type": "code",
   "execution_count": 19,
   "id": "cf2bbc3f-1870-44ab-b6c7-28e700040081",
   "metadata": {},
   "outputs": [],
   "source": [
    "def get_labeled_by_area(img, labeled, scale):\n",
    "    nuclei_props = quant.get_all_props(img, labeled)\n",
    "    nuclei_props = quant.calculate_area(nuclei_props, scale)\n",
    "    nuclei_props = quant.calculate_volume(nuclei_props, scale)\n",
    "\n",
    "    return vis.relabel_by(labeled, nuclei_props)"
   ]
  },
  {
   "cell_type": "code",
   "execution_count": 20,
   "id": "0605ae8f-bf51-4484-8fce-ca70f5f4ecdc",
   "metadata": {},
   "outputs": [],
   "source": [
    "area_labeled = get_labeled_by_area(img, labels, scale)"
   ]
  },
  {
   "cell_type": "code",
   "execution_count": 21,
   "id": "d51d6167-2198-4178-a018-389ae14e98b5",
   "metadata": {},
   "outputs": [
    {
     "name": "stderr",
     "output_type": "stream",
     "text": [
      "WARNING: DirectWrite: CreateFontFaceFromHDC() failed (Indicates an error in an input file such as a font file.) for QFontDef(Family=\"\", pointsize=12, pixelsize=16, styleHint=5, weight=50, stretch=100, hintingPreference=0) LOGFONT(\"MS Sans Serif\", lfWidth=0, lfHeight=-16) dpi=240\n"
     ]
    }
   ],
   "source": [
    "vis.view_property_2d(img, area_labeled)"
   ]
  },
  {
   "cell_type": "markdown",
   "id": "7a6afede-dbbc-40b7-95e5-9120477814b5",
   "metadata": {},
   "source": [
    "## Save new labels\n",
    "\n",
    "If you modified anything from the labeled image and you want to save it, run the cell below."
   ]
  },
  {
   "cell_type": "code",
   "execution_count": 14,
   "id": "f2fb5a09-f3b3-40c8-acc9-e7101296621d",
   "metadata": {},
   "outputs": [],
   "source": [
    "vis.save_img(file_dict[file]['labeled_path'], labels)"
   ]
  },
  {
   "cell_type": "markdown",
   "id": "bb1eff1b-2f45-46e0-9a73-8ba220589854",
   "metadata": {},
   "source": [
    "# ReQuantify\n",
    "\n",
    "After modifying the labels from the segmentation, you can run the following cells to update the excel files with the quantifications."
   ]
  },
  {
   "cell_type": "code",
   "execution_count": 15,
   "id": "f0169021-ebfa-4e80-a908-e3c5975e4a56",
   "metadata": {},
   "outputs": [
    {
     "name": "stdout",
     "output_type": "stream",
     "text": [
      "ReAnalyzing Ndr1219 p8 Hilar-3.tiff\n",
      "Loading image\n",
      "Quantifying Ndr1219 p8 Hilar-3.tiff\n",
      "Saving at P:\\c5_Andersson_Emma\\Afshan\\Nuclei Area quantication\\segmented_nuclei\\segmented\\Ndr1219 p8 Hilar-3.xlsx\n",
      "ReAnalyzing Ndr1219 p8 Hilar-4.tiff\n",
      "Loading image\n",
      "Quantifying Ndr1219 p8 Hilar-4.tiff\n",
      "Saving at P:\\c5_Andersson_Emma\\Afshan\\Nuclei Area quantication\\segmented_nuclei\\segmented\\Ndr1219 p8 Hilar-4.xlsx\n",
      "ReAnalyzing Ndr1224 Hilar-1.tiff\n",
      "Loading image\n",
      "Quantifying Ndr1224 Hilar-1.tiff\n",
      "Saving at P:\\c5_Andersson_Emma\\Afshan\\Nuclei Area quantication\\segmented_nuclei\\segmented\\Ndr1224 Hilar-1.xlsx\n",
      "ReAnalyzing Ndr1224 Hilar-2.tiff\n",
      "Loading image\n",
      "Quantifying Ndr1224 Hilar-2.tiff\n",
      "Saving at P:\\c5_Andersson_Emma\\Afshan\\Nuclei Area quantication\\segmented_nuclei\\segmented\\Ndr1224 Hilar-2.xlsx\n",
      "ReAnalyzing Ndr1224 Hilar-3.tiff\n",
      "Loading image\n",
      "Quantifying Ndr1224 Hilar-3.tiff\n",
      "Saving at P:\\c5_Andersson_Emma\\Afshan\\Nuclei Area quantication\\segmented_nuclei\\segmented\\Ndr1224 Hilar-3.xlsx\n",
      "ReAnalyzing Ndr1224 Hilar-4.tiff\n",
      "Loading image\n",
      "Quantifying Ndr1224 Hilar-4.tiff\n",
      "Saving at P:\\c5_Andersson_Emma\\Afshan\\Nuclei Area quantication\\segmented_nuclei\\segmented\\Ndr1224 Hilar-4.xlsx\n",
      "ReAnalyzing Ndr1224 Hilar-5.tiff\n",
      "Loading image\n",
      "Quantifying Ndr1224 Hilar-5.tiff\n",
      "Saving at P:\\c5_Andersson_Emma\\Afshan\\Nuclei Area quantication\\segmented_nuclei\\segmented\\Ndr1224 Hilar-5.xlsx\n",
      "ReAnalyzing Ndr1224 Hilar-6.tiff\n",
      "Loading image\n",
      "Quantifying Ndr1224 Hilar-6.tiff\n",
      "Saving at P:\\c5_Andersson_Emma\\Afshan\\Nuclei Area quantication\\segmented_nuclei\\segmented\\Ndr1224 Hilar-6.xlsx\n",
      "ReAnalyzing Wt1221 Hilar-2.tiff\n",
      "Loading image\n",
      "Quantifying Wt1221 Hilar-2.tiff\n",
      "Saving at P:\\c5_Andersson_Emma\\Afshan\\Nuclei Area quantication\\segmented_nuclei\\segmented\\Wt1221 Hilar-2.xlsx\n",
      "ReAnalyzing Wt1221 Hilar-5.tiff\n",
      "Loading image\n",
      "Quantifying Wt1221 Hilar-5.tiff\n",
      "Saving at P:\\c5_Andersson_Emma\\Afshan\\Nuclei Area quantication\\segmented_nuclei\\segmented\\Wt1221 Hilar-5.xlsx\n",
      "ReAnalyzing Wt1221 Hilar-8.tiff\n",
      "Loading image\n",
      "Quantifying Wt1221 Hilar-8.tiff\n",
      "Saving at P:\\c5_Andersson_Emma\\Afshan\\Nuclei Area quantication\\segmented_nuclei\\segmented\\Wt1221 Hilar-8.xlsx\n"
     ]
    },
    {
     "name": "stderr",
     "output_type": "stream",
     "text": [
      "\n",
      "  0%|          | 0/11 [00:00<?, ?it/s]\n",
      "  9%|▉         | 1/11 [00:10<01:49, 10.93s/it]\n",
      " 18%|█▊        | 2/11 [00:28<02:11, 14.60s/it]\n",
      " 27%|██▋       | 3/11 [00:31<01:14,  9.28s/it]\n",
      " 36%|███▋      | 4/11 [00:36<00:53,  7.64s/it]\n",
      " 45%|████▌     | 5/11 [00:40<00:39,  6.57s/it]\n",
      " 55%|█████▍    | 6/11 [00:45<00:29,  5.91s/it]\n",
      " 64%|██████▎   | 7/11 [00:46<00:17,  4.47s/it]\n",
      " 73%|███████▎  | 8/11 [00:52<00:14,  4.70s/it]\n",
      " 82%|████████▏ | 9/11 [01:00<00:11,  5.68s/it]\n",
      " 91%|█████████ | 10/11 [01:03<00:05,  5.10s/it]\n",
      "100%|██████████| 11/11 [01:09<00:00,  5.26s/it]\n",
      "100%|██████████| 11/11 [01:09<00:00,  6.31s/it]\n"
     ]
    }
   ],
   "source": [
    "!python requantify.py"
   ]
  },
  {
   "cell_type": "markdown",
   "id": "29a04431-9169-45dd-aed0-ca2ddd458e30",
   "metadata": {},
   "source": [
    "# Generate Report\n",
    "\n",
    "Once you are happy with the new segmentations and you have requantified the images, you can generate a new report with the following cell.\n",
    "\n",
    "Structure of this command is python report.py [upper limit of color for image color coded for area] [upper limit of histogram] [bin width of histograms]\n",
    "\n",
    "Choose the upper limit for the image color coded for area so that the middle point is close to the value that separates small from big nuclei. I chose 400 because: nucleai smaller than 200 will be blue and bigger than 200 will be red.\n",
    "\n",
    "Choose the upper limit of histogram so that the biggest nuclei is included.\n",
    "\n",
    "Choose the bin width according to what resolution you want (don't use this to classify nuclei by size)."
   ]
  },
  {
   "cell_type": "code",
   "execution_count": 39,
   "id": "8e3493c6-aa19-4be7-b860-a06ec8012edb",
   "metadata": {},
   "outputs": [
    {
     "name": "stdout",
     "output_type": "stream",
     "text": [
      "Preparing Ndr1219 p8 Hilar-3.tiff\n",
      "Loading image\n",
      "Relabeling image\n",
      "Estimating good planes\n",
      "Saving report at P:\\c5_Andersson_Emma\\Afshan\\Nuclei Area quantication\\segmented_nuclei\\segmented\\Ndr1219 p8 Hilar-3.pdf\n",
      "Saving big excel file\n",
      "Preparing Ndr1219 p8 Hilar-4.tiff\n",
      "Loading image\n",
      "Relabeling image\n",
      "Estimating good planes\n",
      "Saving report at P:\\c5_Andersson_Emma\\Afshan\\Nuclei Area quantication\\segmented_nuclei\\segmented\\Ndr1219 p8 Hilar-4.pdf\n",
      "Saving big excel file\n",
      "Preparing Ndr1224 Hilar-1.tiff\n",
      "Loading image\n",
      "Relabeling image\n",
      "Estimating good planes\n",
      "Saving report at P:\\c5_Andersson_Emma\\Afshan\\Nuclei Area quantication\\segmented_nuclei\\segmented\\Ndr1224 Hilar-1.pdf\n",
      "Saving big excel file\n",
      "Preparing Ndr1224 Hilar-2.tiff\n",
      "Loading image\n",
      "Relabeling image\n",
      "Estimating good planes\n",
      "Saving report at P:\\c5_Andersson_Emma\\Afshan\\Nuclei Area quantication\\segmented_nuclei\\segmented\\Ndr1224 Hilar-2.pdf\n",
      "Saving big excel file\n",
      "Preparing Ndr1224 Hilar-3.tiff\n",
      "Loading image\n",
      "Relabeling image\n",
      "Estimating good planes\n",
      "Saving report at P:\\c5_Andersson_Emma\\Afshan\\Nuclei Area quantication\\segmented_nuclei\\segmented\\Ndr1224 Hilar-3.pdf\n",
      "Saving big excel file\n",
      "Preparing Ndr1224 Hilar-4.tiff\n",
      "Loading image\n",
      "Relabeling image\n",
      "Estimating good planes\n",
      "Saving report at P:\\c5_Andersson_Emma\\Afshan\\Nuclei Area quantication\\segmented_nuclei\\segmented\\Ndr1224 Hilar-4.pdf\n",
      "Saving big excel file\n",
      "Preparing Ndr1224 Hilar-5.tiff\n",
      "Loading image\n",
      "Relabeling image\n",
      "Estimating good planes\n",
      "Saving report at P:\\c5_Andersson_Emma\\Afshan\\Nuclei Area quantication\\segmented_nuclei\\segmented\\Ndr1224 Hilar-5.pdf\n",
      "Saving big excel file\n",
      "Preparing Ndr1224 Hilar-6.tiff\n",
      "Loading image\n",
      "Relabeling image\n",
      "Estimating good planes\n",
      "Saving report at P:\\c5_Andersson_Emma\\Afshan\\Nuclei Area quantication\\segmented_nuclei\\segmented\\Ndr1224 Hilar-6.pdf\n",
      "Saving big excel file\n",
      "Preparing Wt1221 Hilar-2.tiff\n",
      "Loading image\n",
      "Relabeling image\n",
      "Estimating good planes\n",
      "Saving report at P:\\c5_Andersson_Emma\\Afshan\\Nuclei Area quantication\\segmented_nuclei\\segmented\\Wt1221 Hilar-2.pdf\n",
      "Saving big excel file\n",
      "Preparing Wt1221 Hilar-5.tiff\n",
      "Loading image\n",
      "Relabeling image\n",
      "Estimating good planes\n",
      "Saving report at P:\\c5_Andersson_Emma\\Afshan\\Nuclei Area quantication\\segmented_nuclei\\segmented\\Wt1221 Hilar-5.pdf\n",
      "Saving big excel file\n",
      "Preparing Wt1221 Hilar-8.tiff\n",
      "Loading image\n",
      "Relabeling image\n",
      "Estimating good planes\n",
      "Saving report at P:\\c5_Andersson_Emma\\Afshan\\Nuclei Area quantication\\segmented_nuclei\\segmented\\Wt1221 Hilar-8.pdf\n",
      "Saving big excel file\n"
     ]
    },
    {
     "name": "stderr",
     "output_type": "stream",
     "text": [
      "\n",
      "  0%|          | 0/11 [00:00<?, ?it/s]\n",
      "  9%|▉         | 1/11 [00:37<06:18, 37.82s/it]\n",
      " 18%|█▊        | 2/11 [02:08<10:17, 68.64s/it]\n",
      " 27%|██▋       | 3/11 [02:16<05:29, 41.16s/it]\n",
      " 36%|███▋      | 4/11 [02:30<03:34, 30.61s/it]\n",
      " 45%|████▌     | 5/11 [02:43<02:25, 24.18s/it]\n",
      " 55%|█████▍    | 6/11 [02:54<01:38, 19.72s/it]\n",
      " 64%|██████▎   | 7/11 [02:58<00:58, 14.53s/it]C:\\Users\\agucor\\OneDrive - Karolinska Institutet\\Dokument\\Lab\\Organoid\\src\\report.py:55: UserWarning: Data has no positive values, and therefore cannot be log-scaled.\n",
      "  pp.savefig()\n",
      "\n",
      " 73%|███████▎  | 8/11 [03:12<00:42, 14.28s/it]\n",
      " 82%|████████▏ | 9/11 [03:42<00:38, 19.27s/it]\n",
      " 91%|█████████ | 10/11 [03:54<00:16, 16.91s/it]\n",
      "100%|██████████| 11/11 [04:11<00:00, 17.10s/it]\n",
      "100%|██████████| 11/11 [04:11<00:00, 22.89s/it]\n"
     ]
    }
   ],
   "source": [
    "!python report.py 400 800 25"
   ]
  }
 ],
 "metadata": {
  "kernelspec": {
   "display_name": "Python 3 (ipykernel)",
   "language": "python",
   "name": "python3"
  },
  "language_info": {
   "codemirror_mode": {
    "name": "ipython",
    "version": 3
   },
   "file_extension": ".py",
   "mimetype": "text/x-python",
   "name": "python",
   "nbconvert_exporter": "python",
   "pygments_lexer": "ipython3",
   "version": "3.9.15"
  }
 },
 "nbformat": 4,
 "nbformat_minor": 5
}
